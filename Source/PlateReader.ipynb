{
  "nbformat": 4,
  "nbformat_minor": 0,
  "metadata": {
    "colab": {
      "name": "[3] PlateSubmit.ipynb",
      "provenance": []
    },
    "kernelspec": {
      "name": "python3",
      "display_name": "Python 3"
    },
    "accelerator": "GPU"
  },
  "cells": [
    {
      "cell_type": "code",
      "metadata": {
        "colab": {
          "base_uri": "https://localhost:8080/"
        },
        "id": "0HU0HQrwFnJ7",
        "outputId": "a30102b8-ee0e-4ec4-dc94-1033a59c7bfc"
      },
      "source": [
        "from google.colab import drive\n",
        "drive.mount('/content/drive')"
      ],
      "execution_count": 1,
      "outputs": [
        {
          "output_type": "stream",
          "text": [
            "Mounted at /content/drive\n"
          ],
          "name": "stdout"
        }
      ]
    },
    {
      "cell_type": "code",
      "metadata": {
        "colab": {
          "base_uri": "https://localhost:8080/"
        },
        "id": "2qTH9yHCc3W_",
        "outputId": "20de2ec7-ac35-459b-965d-8645b688cda9"
      },
      "source": [
        "%cd '/content/drive/MyDrive/DataScience/plate_project_group09'"
      ],
      "execution_count": 2,
      "outputs": [
        {
          "output_type": "stream",
          "text": [
            "/content/drive/.shortcut-targets-by-id/1Vt0fOz_0sVJoPLSXwaaNYYz64X3oIxL9/DataScience/plate_project_group09\n"
          ],
          "name": "stdout"
        }
      ]
    },
    {
      "cell_type": "code",
      "metadata": {
        "id": "r1aciizOdRAo"
      },
      "source": [
        "#plate_detector\n",
        "import cv2\n",
        "import numpy as np\n",
        "from utils import decode_netout\n",
        "from tensorflow.keras.applications.inception_v3 import preprocess_input\n",
        "from tensorflow.keras.models import Model\n",
        "from losses import YoloLoss\n",
        "from callbacks import MapEvaluation\n",
        "import tensorflow as tf\n",
        "from tensorflow.keras.models import load_model\n",
        "\n",
        "class PlateDetector:\n",
        "  def __init__(self):\n",
        "      self.model = None\n",
        "      self.anchors = [0.83010,1.00442, 1.23452,1.54667, 1.70144,2.04439, 2.04351,2.74348, 2.90889,3.59401]\n",
        "      self.num_anchors = len(self.anchors)//2\n",
        "      self.labels = ['license plates']\n",
        "      self.num_classes = len(self.labels)\n",
        "      self.batch_size = 16\n",
        "\n",
        "      self.image_w = 500\n",
        "      self.image_h = 500\n",
        "\n",
        "  def save_model(self):\n",
        "      pass  # delete this line and replace yours\n",
        "\n",
        "  def load_model(self):\n",
        "    self.model = load_model(\n",
        "        'models/plate_best_map.hdf5',\n",
        "        custom_objects={\n",
        "          'yolo_loss': YoloLoss(anchors=self.anchors, grid_size=[14, 14], batch_size=self.batch_size, lambda_obj = 5.0)\n",
        "        }\n",
        "      )\n",
        "      \n",
        "\n",
        "  def predict(self, image):\n",
        "      w = image.width\n",
        "      h = image.height\n",
        "      image = image.resize([self.image_w, self.image_h])\n",
        "      image_np = np.array(image)\n",
        "      preprocessed_image = np.array([self.preprocess_input(image_np)])\n",
        "      netout = self.model.predict(preprocessed_image)[0]\n",
        "      boxes = decode_netout(\n",
        "          netout, self.anchors, self.num_classes, 0.5, 0.3)\n",
        "      list_result = []\n",
        "      for box in boxes:\n",
        "          xmin = box.xmin * w\n",
        "          ymin = box.ymin * h\n",
        "          xmax = box.xmax * w\n",
        "          ymax = box.ymax * h\n",
        "          label = self.labels[box.label]\n",
        "          list_result.append((xmin, ymin, xmax, ymax))\n",
        "      return list_result\n",
        "\n",
        "  def preprocess_input(self, image):\n",
        "      return preprocess_input(image)\n",
        "\n",
        "  def infer(self, image, iou_threshold=0.5, score_threshold=0.5):\n",
        "      image = cv2.resize(image, (self.image_w, self.image_h))\n",
        "      image = image[..., ::-1]  # make it RGB (it is important for normalization of some backends)\n",
        "\n",
        "      image = self.preprocess_input(image)\n",
        "      if len(image.shape) == 3:\n",
        "          input_image = image[np.newaxis, :]\n",
        "      else:\n",
        "          input_image = image[np.newaxis, ..., np.newaxis]\n",
        "\n",
        "      netout = self.model.predict(input_image)[0]\n",
        "\n",
        "      boxes = decode_netout(netout, self.anchors, self.num_classes, score_threshold, iou_threshold)\n",
        "\n",
        "      return boxes\n"
      ],
      "execution_count": 3,
      "outputs": []
    },
    {
      "cell_type": "code",
      "metadata": {
        "id": "_5SrESusfO0Y"
      },
      "source": [
        "#char detector\n",
        "import cv2\n",
        "import numpy as np\n",
        "from utils import decode_netout\n",
        "from tensorflow.keras.applications.inception_v3 import preprocess_input\n",
        "from losses import YoloLoss\n",
        "from tensorflow.keras.models import load_model\n",
        "\n",
        "class CharacterDetector:\n",
        "  def __init__(self):\n",
        "      self.model = None\n",
        "      self.anchors = [2.14354,7.09621, 2.27289,4.57841, 3.04554,6.47130, 3.72244,6.75562, 4.04422,7.65468]\n",
        "      self.num_anchors = len(self.anchors)//2\n",
        "      self.labels = ['char']\n",
        "      self.num_classes = len(self.labels)\n",
        "      self.batch_size = 16\n",
        "\n",
        "      self.image_w = 300\n",
        "      self.image_h = 300\n",
        "\n",
        "  def save_model(self):\n",
        "      pass  # delete this line and replace yours\n",
        "\n",
        "  def load_model(self):\n",
        "    self.model = load_model(\n",
        "        'models/character1_best_map.hdf5',\n",
        "        custom_objects={\n",
        "          'yolo_loss': YoloLoss(anchors=self.anchors, grid_size=[9,9], batch_size=self.batch_size, lambda_obj = 5.0)\n",
        "        }\n",
        "      )\n",
        "\n",
        "  def predict(self, image):\n",
        "      w = image.width\n",
        "      h = image.height\n",
        "      image = image.resize([self.image_w, self.image_h])\n",
        "      image_np = np.array(image)\n",
        "      preprocessed_image = np.array([self.preprocess_input(image_np)])\n",
        "      netout = self.model.predict(preprocessed_image)[0]\n",
        "      boxes = decode_netout(\n",
        "          netout, self.anchors, self.num_classes, 0.5, 0.5)\n",
        "      list_result = []\n",
        "      for box in boxes:\n",
        "          xmin = box.xmin * w\n",
        "          ymin = box.ymin * h\n",
        "          xmax = box.xmax * w\n",
        "          ymax = box.ymax * h\n",
        "          label = self.labels[box.label]\n",
        "          list_result.append([xmin, ymin, xmax, ymax])\n",
        "      return list_result\n",
        "\n",
        "  def preprocess_input(self, image):\n",
        "      return preprocess_input(image)\n",
        "\n",
        "  def infer(self, image, iou_threshold=0.5, score_threshold=0.5):\n",
        "      image = cv2.resize(image, (self.image_w, self.image_h))\n",
        "      image = image[..., ::-1]  # make it RGB (it is important for normalization of some backends)\n",
        "\n",
        "      image = self.preprocess_input(image)\n",
        "      if len(image.shape) == 3:\n",
        "          input_image = image[np.newaxis, :]\n",
        "      else:\n",
        "          input_image = image[np.newaxis, ..., np.newaxis]\n",
        "\n",
        "      netout = self.model.predict(input_image)[0]\n",
        "\n",
        "      boxes = decode_netout(netout, self.anchors, self.num_classes, score_threshold, iou_threshold)\n",
        "\n",
        "      return boxes\n"
      ],
      "execution_count": 5,
      "outputs": []
    },
    {
      "cell_type": "code",
      "metadata": {
        "id": "caDbupE9hASp"
      },
      "source": [
        "#char classifier\n",
        "from tensorflow.keras.models import load_model\n",
        "\n",
        "class CharacterClassifier:\n",
        "  def __init__(self):\n",
        "    self.labels = [str(idx) for idx in range(10)] + [chr(idx) for idx in range(65, 65+26)]\n",
        "    self.label_map = {label: idx for idx, label in enumerate(self.labels)}\n",
        "\n",
        "  def load_model(self):\n",
        "    self.model = load_model('models/char_classifier.h5')\n",
        "\n",
        "  def predict(self, image):\n",
        "    resized_image = np.array(image.resize([48,48]))\n",
        "    output = self.model.predict(np.array([resized_image]))[0]\n",
        "    label = self.labels[np.argmax(output)]\n",
        "    return label"
      ],
      "execution_count": 7,
      "outputs": []
    },
    {
      "cell_type": "code",
      "metadata": {
        "id": "L7W9861xipnP"
      },
      "source": [
        "#plate_reader.py\n",
        "# from plate_detector import PlateDetector\n",
        "# from char_detector import CharacterDetector\n",
        "# from char_classifier import CharacterClassifier\n",
        "from PIL import Image, ImageDraw, ImageOps\n",
        "import functools\n",
        "\n",
        "def compare_bbox(b1, b2):\n",
        "  center_x_1 = (b1[2] + b1[0]) / 2\n",
        "  center_y_1 = (b1[3] + b1[1]) / 2\n",
        "  center_x_2 = (b2[2] + b2[0]) / 2\n",
        "  center_y_2 = (b2[3] + b2[1]) / 2\n",
        "\n",
        "  dx = center_x_1 - center_x_2\n",
        "  dy = center_y_1 - center_y_2\n",
        "  if abs(dx) < abs(dy):\n",
        "    return dy < 0\n",
        "  return dx < 0\n",
        "\n",
        "class PlateReader:\n",
        "    def __init__(self):\n",
        "        self.plate_detector = PlateDetector()\n",
        "        self.char_detector = CharacterDetector()\n",
        "        self.char_classifier = CharacterClassifier()\n",
        "\n",
        "    def load_models(self):\n",
        "      self.plate_detector.load_model()\n",
        "      self.char_detector.load_model()\n",
        "      self.char_classifier.load_model()\n",
        "\n",
        "    def detect_plates(self, image):\n",
        "        return self.plate_detector.predict(image)\n",
        "\n",
        "    def read_plates(self, image):\n",
        "        \"\"\"\n",
        "        :param image: a PIL Image object\n",
        "        :return: a list of plate numbers\n",
        "        \"\"\"\n",
        "        list_plate_bboxes = self.detect_plates(image)\n",
        "        list_plate_number = []\n",
        "        canvas = ImageDraw.Draw(image)\n",
        "        for plate_bbox in list_plate_bboxes:\n",
        "          plate_width = plate_bbox[2] - plate_bbox[0]\n",
        "          plate_height = plate_bbox[3] - plate_bbox[1]\n",
        "          plate_image = image.crop([\n",
        "            plate_bbox[0] - 0.1 * plate_width,\n",
        "            plate_bbox[1] - 0.1 * plate_height,\n",
        "            plate_bbox[2] + 0.1 * plate_width,\n",
        "            plate_bbox[3] + 0.1 * plate_height\n",
        "          ])\n",
        "          if plate_image.width < plate_image.height:\n",
        "            plate_image = ImageOps.expand(plate_image, (0, 0 , plate_image.height - plate_image.width, 0))\n",
        "          else:\n",
        "            plate_image = ImageOps.expand(plate_image, (0, 0, 0, plate_image.width - plate_image.height))\n",
        "          list_char_bboxes = self.char_detector.predict(plate_image)\n",
        "          list_char_bboxes = sorted(list_char_bboxes, key=functools.cmp_to_key(compare_bbox))\n",
        "          canvas = ImageDraw.Draw(plate_image)\n",
        "          plate_number = ''\n",
        "          for char_bbox in list_char_bboxes:\n",
        "            char_image = plate_image.crop(char_bbox)\n",
        "            char_label = self.char_classifier.predict(char_image)\n",
        "            plate_number += char_label\n",
        "            canvas.rectangle(char_bbox, outline='red')\n",
        "\n",
        "          list_plate_number.append(plate_number)\n",
        "          display(plate_image)\n",
        "          print(plate_number)\n",
        "\n",
        "        return list_plate_number\n",
        "\n"
      ],
      "execution_count": 8,
      "outputs": []
    },
    {
      "cell_type": "code",
      "metadata": {
        "colab": {
          "base_uri": "https://localhost:8080/",
          "height": 493
        },
        "id": "vbhiC1Jojbtx",
        "outputId": "f112dc8c-2f80-47df-845e-a39b43196a4c"
      },
      "source": [
        "reader = PlateReader()\n",
        "reader.load_models()\n",
        "test_img = Image.open('/content/drive/MyDrive/DataScience/plate_project_group09/k2-f008053.jpg')\n",
        "reader.read_plates(test_img)"
      ],
      "execution_count": 10,
      "outputs": [
        {
          "output_type": "display_data",
          "data": {
            "image/png": "[encoded data removed]",
            "text/plain": [
              "<PIL.Image.Image image mode=RGB size=124x124 at 0x7F3572D37FD0>"
            ]
          },
          "metadata": {
            "tags": []
          }
        },
        {
          "output_type": "stream",
          "text": [
            "51B10024140\n"
          ],
          "name": "stdout"
        },
        {
          "output_type": "display_data",
          "data": {
            "image/png": "[encoded data removed]",
            "text/plain": [
              "<PIL.Image.Image image mode=RGB size=83x83 at 0x7F35205632D0>"
            ]
          },
          "metadata": {
            "tags": []
          }
        },
        {
          "output_type": "stream",
          "text": [
            "71B218005\n"
          ],
          "name": "stdout"
        },
        {
          "output_type": "display_data",
          "data": {
            "image/png": "[encoded data removed]",
            "text/plain": [
              "<PIL.Image.Image image mode=RGB size=201x201 at 0x7F35205A5A50>"
            ]
          },
          "metadata": {
            "tags": []
          }
        },
        {
          "output_type": "stream",
          "text": [
            "F5119069\n"
          ],
          "name": "stdout"
        },
        {
          "output_type": "execute_result",
          "data": {
            "text/plain": [
              "['51B10024140', '71B218005', 'F5119069']"
            ]
          },
          "metadata": {
            "tags": []
          },
          "execution_count": 10
        }
      ]
    }
  ]
}